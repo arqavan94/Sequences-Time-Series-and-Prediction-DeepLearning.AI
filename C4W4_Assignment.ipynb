{
  "cells": [
    {
      "cell_type": "markdown",
      "metadata": {
        "id": "view-in-github",
        "colab_type": "text"
      },
      "source": [
        "<a href=\"https://colab.research.google.com/github/arqavan94/Sequences-Time-Series-and-Prediction-DeepLearning.AI/blob/main/C4W4_Assignment.ipynb\" target=\"_parent\"><img src=\"https://colab.research.google.com/assets/colab-badge.svg\" alt=\"Open In Colab\"/></a>"
      ]
    },
    {
      "cell_type": "markdown",
      "metadata": {
        "id": "L1dUU30pqBvG"
      },
      "source": [
        "# Week 4: Using real world data\n",
        "\n",
        "Welcome! So far you have worked exclusively with generated data. This time you will be using the [Daily Minimum Temperatures in Melbourne](https://github.com/jbrownlee/Datasets/blob/master/daily-min-temperatures.csv) dataset which contains data of the daily minimum temperatures recorded in Melbourne from 1981 to 1990. In addition to be using Tensorflow's layers for processing sequence data such as Recurrent layers or LSTMs you will also use Convolutional layers to improve the model's performance.\n",
        "\n",
        "Let's get started!"
      ]
    },
    {
      "cell_type": "code",
      "execution_count": null,
      "metadata": {
        "id": "56XEQOGknrAk"
      },
      "outputs": [],
      "source": [
        "import csv\n",
        "import pickle\n",
        "import numpy as np\n",
        "import tensorflow as tf\n",
        "import matplotlib.pyplot as plt\n",
        "from dataclasses import dataclass"
      ]
    },
    {
      "cell_type": "markdown",
      "metadata": {
        "id": "dqxQwS2MqBvM"
      },
      "source": [
        "Begin by looking at the structure of the csv that contains the data:"
      ]
    },
    {
      "cell_type": "code",
      "execution_count": null,
      "metadata": {
        "id": "urtRBuwzqBvN",
        "outputId": "8a921682-f704-499d-d36d-22a87f70bce1"
      },
      "outputs": [
        {
          "name": "stdout",
          "output_type": "stream",
          "text": [
            "Header looks like this:\n",
            "\n",
            "\"Date\",\"Temp\"\n",
            "\n",
            "First data point looks like this:\n",
            "\n",
            "\"1981-01-01\",20.7\n",
            "\n",
            "Second data point looks like this:\n",
            "\n",
            "\"1981-01-02\",17.9\n",
            "\n"
          ]
        }
      ],
      "source": [
        "TEMPERATURES_CSV = './data/daily-min-temperatures.csv'\n",
        "\n",
        "with open(TEMPERATURES_CSV, 'r') as csvfile:\n",
        "    print(f\"Header looks like this:\\n\\n{csvfile.readline()}\")    \n",
        "    print(f\"First data point looks like this:\\n\\n{csvfile.readline()}\")\n",
        "    print(f\"Second data point looks like this:\\n\\n{csvfile.readline()}\")"
      ]
    },
    {
      "cell_type": "markdown",
      "metadata": {
        "id": "25RlV06LqBvP"
      },
      "source": [
        "As you can see, each data point is composed of the date and the recorded minimum temperature for that date.\n",
        "\n",
        "\n",
        "In the first exercise you will code a function to read the data from the csv but for now run the next cell to load a helper function to plot the time series."
      ]
    },
    {
      "cell_type": "code",
      "execution_count": null,
      "metadata": {
        "id": "sLl52leVp5wU"
      },
      "outputs": [],
      "source": [
        "def plot_series(time, series, format=\"-\", start=0, end=None):\n",
        "    plt.plot(time[start:end], series[start:end], format)\n",
        "    plt.xlabel(\"Time\")\n",
        "    plt.ylabel(\"Value\")\n",
        "    plt.grid(True)"
      ]
    },
    {
      "cell_type": "markdown",
      "metadata": {
        "id": "oBvjzpdCqBvQ"
      },
      "source": [
        "## Parsing the raw data\n",
        "Now you need to read the data from the csv file. To do so, complete the `parse_data_from_file` function.\n",
        "\n",
        "A couple of things to note:\n",
        "\n",
        "- You should omit the first line as the file contains headers.\n",
        "- There is no need to save the data points as numpy arrays, regular lists is fine.\n",
        "- To read from csv files use `csv.reader` by passing the appropriate arguments.\n",
        "- `csv.reader` returns an iterable that returns each row in every iteration. So the temperature can be accessed via row[1] and the date can be discarded.\n",
        "- The `times` list should contain every timestep (starting at zero), which is just a sequence of ordered numbers with the same length as the `temperatures` list.\n",
        "- The values of the `temperatures` should be of `float` type. You can use Python's built-in `float` function to ensure this."
      ]
    },
    {
      "cell_type": "code",
      "execution_count": null,
      "metadata": {
        "id": "NcG9r1eClbTh"
      },
      "outputs": [],
      "source": [
        "def parse_data_from_file(filename):\n",
        "    \n",
        "    times = []\n",
        "    temperatures = []\n",
        "    counter=0\n",
        "    with open(filename) as csvfile:\n",
        "        \n",
        "        ### START CODE HERE\n",
        "        \n",
        "        reader = csv.reader(csvfile, delimiter=',')\n",
        "        next(reader)\n",
        "        for row in reader:\n",
        "            times.append(counter)\n",
        "            temperatures.append(float(row[1]))\n",
        "            counter+=1\n",
        "        ### END CODE HERE\n",
        "            \n",
        "    return times, temperatures\n"
      ]
    },
    {
      "cell_type": "markdown",
      "metadata": {
        "id": "cXgktluIqBvR"
      },
      "source": [
        "The next cell will use your function to compute the `times` and `temperatures` and will save these as numpy arrays within the `G` dataclass. This cell will also plot the time series:"
      ]
    },
    {
      "cell_type": "code",
      "execution_count": null,
      "metadata": {
        "scrolled": true,
        "id": "m8OhDHd4qBvS",
        "outputId": "4bed24c8-c835-4674-90f5-354d316b9638"
      },
      "outputs": [
        {
          "data": {
            "image/png": "[encoded data removed]",
            "text/plain": [
              "<Figure size 720x432 with 1 Axes>"
            ]
          },
          "metadata": {
            "needs_background": "light"
          },
          "output_type": "display_data"
        }
      ],
      "source": [
        "# Test your function and save all \"global\" variables within the G class (G stands for global)\n",
        "@dataclass\n",
        "class G:\n",
        "    TEMPERATURES_CSV = './data/daily-min-temperatures.csv'\n",
        "    times, temperatures = parse_data_from_file(TEMPERATURES_CSV)\n",
        "    TIME = np.array(times)\n",
        "    SERIES = np.array(temperatures)\n",
        "    SPLIT_TIME = 2500\n",
        "    WINDOW_SIZE = 64\n",
        "    BATCH_SIZE = 256\n",
        "    SHUFFLE_BUFFER_SIZE = 1000\n",
        "\n",
        "\n",
        "plt.figure(figsize=(10, 6))\n",
        "plot_series(G.TIME, G.SERIES)\n",
        "plt.show()"
      ]
    },
    {
      "cell_type": "markdown",
      "metadata": {
        "id": "9FiIrkARqBvT"
      },
      "source": [
        "**Expected Output:**\n",
        "<div>\n",
        "<img src=\"images/temp-series.png\" width=\"500\"/>\n",
        "</div>"
      ]
    },
    {
      "cell_type": "markdown",
      "metadata": {
        "id": "X9wKqDCNqBvT"
      },
      "source": [
        "## Processing the data\n",
        "\n",
        "Since you already coded the `train_val_split` and `windowed_dataset` functions during past week's assignments, this time they are provided for you:"
      ]
    },
    {
      "cell_type": "code",
      "execution_count": null,
      "metadata": {
        "id": "_EcB5PbyqBvU"
      },
      "outputs": [],
      "source": [
        "def train_val_split(time, series, time_step=G.SPLIT_TIME):\n",
        "\n",
        "    time_train = time[:time_step]\n",
        "    series_train = series[:time_step]\n",
        "    time_valid = time[time_step:]\n",
        "    series_valid = series[time_step:]\n",
        "\n",
        "    return time_train, series_train, time_valid, series_valid\n",
        "\n",
        "\n",
        "# Split the dataset\n",
        "time_train, series_train, time_valid, series_valid = train_val_split(G.TIME, G.SERIES)"
      ]
    },
    {
      "cell_type": "code",
      "execution_count": null,
      "metadata": {
        "id": "lJwUUZscnG38"
      },
      "outputs": [],
      "source": [
        "def windowed_dataset(series, window_size=G.WINDOW_SIZE, batch_size=G.BATCH_SIZE, shuffle_buffer=G.SHUFFLE_BUFFER_SIZE):\n",
        "    ds = tf.data.Dataset.from_tensor_slices(series)\n",
        "    ds = ds.window(window_size + 1, shift=1, drop_remainder=True)\n",
        "    ds = ds.flat_map(lambda w: w.batch(window_size + 1))\n",
        "    ds = ds.shuffle(shuffle_buffer)\n",
        "    ds = ds.map(lambda w: (w[:-1], w[-1]))\n",
        "    ds = ds.batch(batch_size).prefetch(1)\n",
        "    return ds\n",
        "\n",
        "\n",
        "# Apply the transformation to the training set\n",
        "train_set = windowed_dataset(series_train, window_size=G.WINDOW_SIZE, batch_size=G.BATCH_SIZE, shuffle_buffer=G.SHUFFLE_BUFFER_SIZE)"
      ]
    },
    {
      "cell_type": "markdown",
      "metadata": {
        "id": "nCrqTb-2qBvU"
      },
      "source": [
        "## Defining the model architecture\n",
        "\n",
        "Now that you have a function that will process the data before it is fed into your neural network for training, it is time to define your layer architecture. Just as in last week's assignment you will do the layer definition and compilation in two separate steps. Begin by completing the `create_uncompiled_model` function below.\n",
        "\n",
        "This is done so you can reuse your model's layers for the learning rate adjusting and the actual training.\n",
        "\n",
        "Hint:\n",
        "\n",
        "- `Lambda` layers are not required.\n",
        "- Use a combination of `Conv1D` and `LSTM` layers followed by `Dense` layers"
      ]
    },
    {
      "cell_type": "code",
      "execution_count": null,
      "metadata": {
        "id": "IbvxPpl0qBvV"
      },
      "outputs": [],
      "source": [
        "def create_uncompiled_model():\n",
        "\n",
        "    ### START CODE HERE\n",
        "    \n",
        "    model = tf.keras.models.Sequential([\n",
        "        tf.keras.layers.Conv1D(filters=64,input_shape=[G.WINDOW_SIZE,1],\n",
        "                               kernel_size=3,strides=1,activation=\"relu\",\n",
        "                      padding='causal'),\n",
        "        tf.keras.layers.Bidirectional(tf.keras.layers.LSTM(64,return_sequences=True)),\n",
        "        tf.keras.layers.LSTM(32, return_sequences=True),\n",
        "        tf.keras.layers.LSTM(20),\n",
        "        tf.keras.layers.Dense(10, activation=\"relu\"),\n",
        "        tf.keras.layers.Dense(1,activation=\"relu\")\n",
        "        \n",
        "    ]) \n",
        "    \n",
        "    model.summary()\n",
        "    ### END CODE HERE\n",
        "\n",
        "    return model"
      ]
    },
    {
      "cell_type": "code",
      "execution_count": null,
      "metadata": {
        "id": "AerQ_5MvqBvV",
        "outputId": "9cd1db32-2c2e-4b0e-a4c9-708cc699aec5"
      },
      "outputs": [
        {
          "name": "stdout",
          "output_type": "stream",
          "text": [
            "Model: \"sequential\"\n",
            "_________________________________________________________________\n",
            " Layer (type)                Output Shape              Param #   \n",
            "=================================================================\n",
            " conv1d (Conv1D)             (None, 64, 64)            256       \n",
            "                                                                 \n",
            " bidirectional (Bidirectiona  (None, 64, 128)          66048     \n",
            " l)                                                              \n",
            "                                                                 \n",
            " lstm_1 (LSTM)               (None, 64, 32)            20608     \n",
            "                                                                 \n",
            " lstm_2 (LSTM)               (None, 20)                4240      \n",
            "                                                                 \n",
            " dense (Dense)               (None, 10)                210       \n",
            "                                                                 \n",
            " dense_1 (Dense)             (None, 1)                 11        \n",
            "                                                                 \n",
            "=================================================================\n",
            "Total params: 91,373\n",
            "Trainable params: 91,373\n",
            "Non-trainable params: 0\n",
            "_________________________________________________________________\n",
            "Your current architecture is compatible with the windowed dataset! :)\n"
          ]
        }
      ],
      "source": [
        "# Test your uncompiled model\n",
        "uncompiled_model = create_uncompiled_model()\n",
        "\n",
        "try:\n",
        "    uncompiled_model.predict(train_set)\n",
        "except:\n",
        "    print(\"Your current architecture is incompatible with the windowed dataset, try adjusting it.\")\n",
        "else:\n",
        "    print(\"Your current architecture is compatible with the windowed dataset! :)\")"
      ]
    },
    {
      "cell_type": "markdown",
      "metadata": {
        "id": "viVOf2saqBvW"
      },
      "source": [
        "## Adjusting the learning rate - (Optional Exercise)\n",
        "\n",
        "As you saw in the lecture you can leverage Tensorflow's callbacks to dinamically vary the learning rate during training. This can be helpful to get a better sense of which learning rate better acommodates to the problem at hand.\n",
        "\n",
        "**Notice that this is only changing the learning rate during the training process to give you an idea of what a reasonable learning rate is and should not be confused with selecting the best learning rate, this is known as hyperparameter optimization and it is outside the scope of this course.**\n",
        "\n",
        "For the optimizers you can try out:\n",
        "\n",
        "- tf.keras.optimizers.Adam\n",
        "- tf.keras.optimizers.SGD with a momentum of 0.9"
      ]
    },
    {
      "cell_type": "code",
      "execution_count": null,
      "metadata": {
        "id": "YYRJz0CoqBvW"
      },
      "outputs": [],
      "source": [
        "def adjust_learning_rate(dataset):\n",
        "    \n",
        "    model = create_uncompiled_model()\n",
        "    \n",
        "    lr_schedule = tf.keras.callbacks.LearningRateScheduler(lambda epoch: 1e-4 * 10**(epoch / 20))\n",
        "    \n",
        "    ### START CODE HERE\n",
        "    \n",
        "    # Select your optimizer\n",
        "    optimizer = tf.keras.optimizers.SGD(momentum=0.9)\n",
        "    \n",
        "    # Compile the model passing in the appropriate loss\n",
        "    model.compile(loss=tf.keras.losses.Huber(),\n",
        "                  optimizer=optimizer, \n",
        "                  metrics=[\"mae\"]) \n",
        "    \n",
        "    ### END CODE HERE\n",
        "    \n",
        "    history = model.fit(dataset, epochs=100, callbacks=[lr_schedule])\n",
        "    \n",
        "    return history"
      ]
    },
    {
      "cell_type": "code",
      "execution_count": null,
      "metadata": {
        "id": "gYJ-S33gqBvW",
        "outputId": "baddc2c0-f3ca-4800-a6d3-ef0b94c658a3"
      },
      "outputs": [
        {
          "name": "stdout",
          "output_type": "stream",
          "text": [
            "Model: \"sequential_3\"\n",
            "_________________________________________________________________\n",
            " Layer (type)                Output Shape              Param #   \n",
            "=================================================================\n",
            " conv1d_3 (Conv1D)           (None, 64, 64)            256       \n",
            "                                                                 \n",
            " bidirectional_3 (Bidirectio  (None, 64, 128)          66048     \n",
            " nal)                                                            \n",
            "                                                                 \n",
            " lstm_10 (LSTM)              (None, 64, 32)            20608     \n",
            "                                                                 \n",
            " lstm_11 (LSTM)              (None, 20)                4240      \n",
            "                                                                 \n",
            " dense_6 (Dense)             (None, 10)                210       \n",
            "                                                                 \n",
            " dense_7 (Dense)             (None, 1)                 11        \n",
            "                                                                 \n",
            "=================================================================\n",
            "Total params: 91,373\n",
            "Trainable params: 91,373\n",
            "Non-trainable params: 0\n",
            "_________________________________________________________________\n",
            "Epoch 1/100\n",
            "10/10 [==============================] - 11s 548ms/step - loss: 10.2371 - mae: 10.7359 - lr: 1.0000e-04\n",
            "Epoch 2/100\n",
            "10/10 [==============================] - 6s 535ms/step - loss: 10.0096 - mae: 10.5082 - lr: 1.1220e-04\n",
            "Epoch 3/100\n",
            "10/10 [==============================] - 6s 534ms/step - loss: 9.7000 - mae: 10.1987 - lr: 1.2589e-04\n",
            "Epoch 4/100\n",
            "10/10 [==============================] - 6s 535ms/step - loss: 9.4749 - mae: 9.9732 - lr: 1.4125e-04\n",
            "Epoch 5/100\n",
            "10/10 [==============================] - 6s 545ms/step - loss: 9.2715 - mae: 9.7698 - lr: 1.5849e-04\n",
            "Epoch 6/100\n",
            "10/10 [==============================] - 6s 545ms/step - loss: 8.9855 - mae: 9.4838 - lr: 1.7783e-04\n",
            "Epoch 7/100\n",
            "10/10 [==============================] - 6s 555ms/step - loss: 8.6552 - mae: 9.1532 - lr: 1.9953e-04\n",
            "Epoch 8/100\n",
            "10/10 [==============================] - 6s 544ms/step - loss: 8.2895 - mae: 8.7873 - lr: 2.2387e-04\n",
            "Epoch 9/100\n",
            "10/10 [==============================] - 6s 534ms/step - loss: 7.9213 - mae: 8.4177 - lr: 2.5119e-04\n",
            "Epoch 10/100\n",
            "10/10 [==============================] - 6s 543ms/step - loss: 7.5338 - mae: 8.0290 - lr: 2.8184e-04\n",
            "Epoch 11/100\n",
            "10/10 [==============================] - 6s 533ms/step - loss: 7.0869 - mae: 7.5825 - lr: 3.1623e-04\n",
            "Epoch 12/100\n",
            "10/10 [==============================] - 6s 535ms/step - loss: 6.5450 - mae: 7.0380 - lr: 3.5481e-04\n",
            "Epoch 13/100\n",
            "10/10 [==============================] - 6s 543ms/step - loss: 5.8704 - mae: 6.3604 - lr: 3.9811e-04\n",
            "Epoch 14/100\n",
            "10/10 [==============================] - 6s 535ms/step - loss: 5.0465 - mae: 5.5312 - lr: 4.4668e-04\n",
            "Epoch 15/100\n",
            "10/10 [==============================] - 6s 533ms/step - loss: 4.1185 - mae: 4.5957 - lr: 5.0119e-04\n",
            "Epoch 16/100\n",
            "10/10 [==============================] - 5s 524ms/step - loss: 3.2698 - mae: 3.7419 - lr: 5.6234e-04\n",
            "Epoch 17/100\n",
            "10/10 [==============================] - 6s 533ms/step - loss: 2.7695 - mae: 3.2361 - lr: 6.3096e-04\n",
            "Epoch 18/100\n",
            "10/10 [==============================] - 6s 524ms/step - loss: 2.6661 - mae: 3.1315 - lr: 7.0795e-04\n",
            "Epoch 19/100\n",
            "10/10 [==============================] - 6s 534ms/step - loss: 2.6544 - mae: 3.1206 - lr: 7.9433e-04\n",
            "Epoch 20/100\n",
            "10/10 [==============================] - 6s 544ms/step - loss: 2.6130 - mae: 3.0776 - lr: 8.9125e-04\n",
            "Epoch 21/100\n",
            "10/10 [==============================] - 6s 535ms/step - loss: 2.5567 - mae: 3.0194 - lr: 0.0010\n",
            "Epoch 22/100\n",
            "10/10 [==============================] - 6s 543ms/step - loss: 2.4054 - mae: 2.8652 - lr: 0.0011\n",
            "Epoch 23/100\n",
            "10/10 [==============================] - 6s 545ms/step - loss: 2.1758 - mae: 2.6289 - lr: 0.0013\n",
            "Epoch 24/100\n",
            "10/10 [==============================] - 6s 534ms/step - loss: 2.0504 - mae: 2.5059 - lr: 0.0014\n",
            "Epoch 25/100\n",
            "10/10 [==============================] - 6s 545ms/step - loss: 1.8636 - mae: 2.3133 - lr: 0.0016\n",
            "Epoch 26/100\n",
            "10/10 [==============================] - 6s 534ms/step - loss: 1.8490 - mae: 2.3003 - lr: 0.0018\n",
            "Epoch 27/100\n",
            "10/10 [==============================] - 5s 524ms/step - loss: 1.8846 - mae: 2.3379 - lr: 0.0020\n",
            "Epoch 28/100\n",
            "10/10 [==============================] - 6s 535ms/step - loss: 1.9085 - mae: 2.3659 - lr: 0.0022\n",
            "Epoch 29/100\n",
            "10/10 [==============================] - 6s 533ms/step - loss: 1.8252 - mae: 2.2753 - lr: 0.0025\n",
            "Epoch 30/100\n",
            "10/10 [==============================] - 6s 533ms/step - loss: 1.7699 - mae: 2.2217 - lr: 0.0028\n",
            "Epoch 31/100\n",
            "10/10 [==============================] - 5s 523ms/step - loss: 1.7883 - mae: 2.2402 - lr: 0.0032\n",
            "Epoch 32/100\n",
            "10/10 [==============================] - 6s 543ms/step - loss: 1.8112 - mae: 2.2623 - lr: 0.0035\n",
            "Epoch 33/100\n",
            "10/10 [==============================] - 6s 556ms/step - loss: 1.7688 - mae: 2.2204 - lr: 0.0040\n",
            "Epoch 34/100\n",
            "10/10 [==============================] - 6s 556ms/step - loss: 1.7694 - mae: 2.2173 - lr: 0.0045\n",
            "Epoch 35/100\n",
            "10/10 [==============================] - 6s 556ms/step - loss: 1.8031 - mae: 2.2546 - lr: 0.0050\n",
            "Epoch 36/100\n",
            "10/10 [==============================] - 6s 566ms/step - loss: 1.7916 - mae: 2.2434 - lr: 0.0056\n",
            "Epoch 37/100\n",
            "10/10 [==============================] - 6s 556ms/step - loss: 2.0583 - mae: 2.5172 - lr: 0.0063\n",
            "Epoch 38/100\n",
            "10/10 [==============================] - 6s 567ms/step - loss: 1.9383 - mae: 2.3891 - lr: 0.0071\n",
            "Epoch 39/100\n",
            "10/10 [==============================] - 6s 545ms/step - loss: 1.8296 - mae: 2.2808 - lr: 0.0079\n",
            "Epoch 40/100\n",
            "10/10 [==============================] - 6s 533ms/step - loss: 1.7732 - mae: 2.2243 - lr: 0.0089\n",
            "Epoch 41/100\n",
            "10/10 [==============================] - 6s 534ms/step - loss: 1.7755 - mae: 2.2250 - lr: 0.0100\n",
            "Epoch 42/100\n",
            "10/10 [==============================] - 6s 534ms/step - loss: 1.7930 - mae: 2.2416 - lr: 0.0112\n",
            "Epoch 43/100\n",
            "10/10 [==============================] - 6s 535ms/step - loss: 1.7997 - mae: 2.2520 - lr: 0.0126\n",
            "Epoch 44/100\n",
            "10/10 [==============================] - 6s 534ms/step - loss: 1.9263 - mae: 2.3822 - lr: 0.0141\n",
            "Epoch 45/100\n",
            "10/10 [==============================] - 6s 544ms/step - loss: 1.6920 - mae: 2.1384 - lr: 0.0158\n",
            "Epoch 46/100\n",
            "10/10 [==============================] - 6s 554ms/step - loss: 1.6367 - mae: 2.0831 - lr: 0.0178\n",
            "Epoch 47/100\n",
            "10/10 [==============================] - 6s 545ms/step - loss: 1.5996 - mae: 2.0440 - lr: 0.0200\n",
            "Epoch 48/100\n",
            "10/10 [==============================] - 6s 534ms/step - loss: 1.7353 - mae: 2.1862 - lr: 0.0224\n",
            "Epoch 49/100\n",
            "10/10 [==============================] - 6s 545ms/step - loss: 1.7544 - mae: 2.2069 - lr: 0.0251\n",
            "Epoch 50/100\n",
            "10/10 [==============================] - 6s 535ms/step - loss: 1.8114 - mae: 2.2616 - lr: 0.0282\n",
            "Epoch 51/100\n",
            "10/10 [==============================] - 6s 535ms/step - loss: 1.8124 - mae: 2.2658 - lr: 0.0316\n",
            "Epoch 52/100\n",
            "10/10 [==============================] - 6s 544ms/step - loss: 1.9852 - mae: 2.4387 - lr: 0.0355\n",
            "Epoch 53/100\n",
            "10/10 [==============================] - 5s 524ms/step - loss: 2.0404 - mae: 2.4999 - lr: 0.0398\n",
            "Epoch 54/100\n",
            "10/10 [==============================] - 6s 533ms/step - loss: 1.9881 - mae: 2.4473 - lr: 0.0447\n",
            "Epoch 55/100\n",
            "10/10 [==============================] - 6s 534ms/step - loss: 1.9845 - mae: 2.4423 - lr: 0.0501\n",
            "Epoch 56/100\n",
            "10/10 [==============================] - 6s 534ms/step - loss: 1.7908 - mae: 2.2428 - lr: 0.0562\n",
            "Epoch 57/100\n",
            "10/10 [==============================] - 6s 534ms/step - loss: 1.7174 - mae: 2.1666 - lr: 0.0631\n",
            "Epoch 58/100\n",
            "10/10 [==============================] - 6s 534ms/step - loss: 2.0428 - mae: 2.4987 - lr: 0.0708\n",
            "Epoch 59/100\n",
            "10/10 [==============================] - 6s 533ms/step - loss: 1.9753 - mae: 2.4258 - lr: 0.0794\n",
            "Epoch 60/100\n",
            "10/10 [==============================] - 6s 534ms/step - loss: 2.1708 - mae: 2.6312 - lr: 0.0891\n",
            "Epoch 61/100\n",
            "10/10 [==============================] - 6s 544ms/step - loss: 2.1144 - mae: 2.5746 - lr: 0.1000\n",
            "Epoch 62/100\n",
            "10/10 [==============================] - 6s 567ms/step - loss: 2.1798 - mae: 2.6404 - lr: 0.1122\n",
            "Epoch 63/100\n"
          ]
        },
        {
          "name": "stdout",
          "output_type": "stream",
          "text": [
            "10/10 [==============================] - 6s 567ms/step - loss: 1.9744 - mae: 2.4306 - lr: 0.1259\n",
            "Epoch 64/100\n",
            "10/10 [==============================] - 6s 567ms/step - loss: 2.5867 - mae: 3.0500 - lr: 0.1413\n",
            "Epoch 65/100\n",
            "10/10 [==============================] - 6s 567ms/step - loss: 2.4613 - mae: 2.9243 - lr: 0.1585\n",
            "Epoch 66/100\n",
            "10/10 [==============================] - 6s 567ms/step - loss: 2.2772 - mae: 2.7400 - lr: 0.1778\n",
            "Epoch 67/100\n",
            "10/10 [==============================] - 6s 566ms/step - loss: 2.1563 - mae: 2.6163 - lr: 0.1995\n",
            "Epoch 68/100\n",
            "10/10 [==============================] - 6s 556ms/step - loss: 2.9081 - mae: 3.3763 - lr: 0.2239\n",
            "Epoch 69/100\n",
            "10/10 [==============================] - 6s 545ms/step - loss: 2.7611 - mae: 3.2301 - lr: 0.2512\n",
            "Epoch 70/100\n",
            "10/10 [==============================] - 6s 544ms/step - loss: 2.9791 - mae: 3.4489 - lr: 0.2818\n",
            "Epoch 71/100\n",
            "10/10 [==============================] - 6s 546ms/step - loss: 2.8324 - mae: 3.2999 - lr: 0.3162\n",
            "Epoch 72/100\n",
            "10/10 [==============================] - 6s 557ms/step - loss: 2.7446 - mae: 3.2120 - lr: 0.3548\n",
            "Epoch 73/100\n",
            "10/10 [==============================] - 6s 556ms/step - loss: 2.8623 - mae: 3.3292 - lr: 0.3981\n",
            "Epoch 74/100\n",
            "10/10 [==============================] - 6s 577ms/step - loss: 2.8611 - mae: 3.3315 - lr: 0.4467\n",
            "Epoch 75/100\n",
            "10/10 [==============================] - 6s 566ms/step - loss: 2.6980 - mae: 3.1621 - lr: 0.5012\n",
            "Epoch 76/100\n",
            "10/10 [==============================] - 6s 579ms/step - loss: 2.4692 - mae: 2.9325 - lr: 0.5623\n",
            "Epoch 77/100\n",
            "10/10 [==============================] - 6s 566ms/step - loss: 2.8151 - mae: 3.2848 - lr: 0.6310\n",
            "Epoch 78/100\n",
            "10/10 [==============================] - 6s 555ms/step - loss: 2.7239 - mae: 3.1898 - lr: 0.7079\n",
            "Epoch 79/100\n",
            "10/10 [==============================] - 6s 556ms/step - loss: 2.7228 - mae: 3.1908 - lr: 0.7943\n",
            "Epoch 80/100\n",
            "10/10 [==============================] - 6s 544ms/step - loss: 2.7229 - mae: 3.1899 - lr: 0.8913\n",
            "Epoch 81/100\n",
            "10/10 [==============================] - 6s 545ms/step - loss: 2.7185 - mae: 3.1847 - lr: 1.0000\n",
            "Epoch 82/100\n",
            "10/10 [==============================] - 6s 556ms/step - loss: 2.7138 - mae: 3.1801 - lr: 1.1220\n",
            "Epoch 83/100\n",
            "10/10 [==============================] - 6s 544ms/step - loss: 2.7198 - mae: 3.1853 - lr: 1.2589\n",
            "Epoch 84/100\n",
            "10/10 [==============================] - 6s 546ms/step - loss: 2.7438 - mae: 3.2107 - lr: 1.4125\n",
            "Epoch 85/100\n",
            "10/10 [==============================] - 6s 556ms/step - loss: 2.7164 - mae: 3.1827 - lr: 1.5849\n",
            "Epoch 86/100\n",
            "10/10 [==============================] - 6s 545ms/step - loss: 2.7276 - mae: 3.1952 - lr: 1.7783\n",
            "Epoch 87/100\n",
            "10/10 [==============================] - 6s 524ms/step - loss: 2.7191 - mae: 3.1854 - lr: 1.9953\n",
            "Epoch 88/100\n",
            "10/10 [==============================] - 5s 513ms/step - loss: 2.7194 - mae: 3.1851 - lr: 2.2387\n",
            "Epoch 89/100\n",
            "10/10 [==============================] - 5s 511ms/step - loss: 2.7676 - mae: 3.2354 - lr: 2.5119\n",
            "Epoch 90/100\n",
            "10/10 [==============================] - 5s 511ms/step - loss: 2.7338 - mae: 3.1997 - lr: 2.8184\n",
            "Epoch 91/100\n",
            "10/10 [==============================] - 5s 512ms/step - loss: 2.7240 - mae: 3.1909 - lr: 3.1623\n",
            "Epoch 92/100\n",
            "10/10 [==============================] - 5s 511ms/step - loss: 2.7382 - mae: 3.2048 - lr: 3.5481\n",
            "Epoch 93/100\n",
            "10/10 [==============================] - 5s 522ms/step - loss: 2.7481 - mae: 3.2150 - lr: 3.9811\n",
            "Epoch 94/100\n",
            "10/10 [==============================] - 5s 511ms/step - loss: 2.7196 - mae: 3.1864 - lr: 4.4668\n",
            "Epoch 95/100\n",
            "10/10 [==============================] - 5s 501ms/step - loss: 2.7340 - mae: 3.2023 - lr: 5.0119\n",
            "Epoch 96/100\n",
            "10/10 [==============================] - 5s 501ms/step - loss: 2.7276 - mae: 3.1948 - lr: 5.6234\n",
            "Epoch 97/100\n",
            "10/10 [==============================] - 5s 512ms/step - loss: 2.7730 - mae: 3.2401 - lr: 6.3096\n",
            "Epoch 98/100\n",
            "10/10 [==============================] - 5s 522ms/step - loss: 2.7558 - mae: 3.2240 - lr: 7.0795\n",
            "Epoch 99/100\n",
            "10/10 [==============================] - 5s 511ms/step - loss: 2.7789 - mae: 3.2468 - lr: 7.9433\n",
            "Epoch 100/100\n",
            "10/10 [==============================] - 5s 522ms/step - loss: 2.8393 - mae: 3.3121 - lr: 8.9125\n"
          ]
        }
      ],
      "source": [
        "# Run the training with dynamic LR\n",
        "lr_history = adjust_learning_rate(train_set)"
      ]
    },
    {
      "cell_type": "code",
      "execution_count": null,
      "metadata": {
        "colab": {
          "base_uri": "https://localhost:8080/",
          "height": 290
        },
        "id": "vVcKmg7Q_7rD",
        "outputId": "27cf16ae-eb85-47c3-fc86-18e72e528619"
      },
      "outputs": [
        {
          "data": {
            "text/plain": [
              "(0.0001, 10.0, 0.0, 10.0)"
            ]
          },
          "execution_count": 43,
          "metadata": {},
          "output_type": "execute_result"
        },
        {
          "data": {
            "image/png": "[encoded data removed]",
            "text/plain": [
              "<Figure size 432x288 with 1 Axes>"
            ]
          },
          "metadata": {
            "needs_background": "light"
          },
          "output_type": "display_data"
        }
      ],
      "source": [
        "plt.semilogx(lr_history.history[\"lr\"], lr_history.history[\"loss\"])\n",
        "plt.axis([1e-4, 10, 0, 10])"
      ]
    },
    {
      "cell_type": "markdown",
      "metadata": {
        "id": "0Jrmj_FGqBvX"
      },
      "source": [
        "## Compiling the model\n",
        "Now that you have trained the model while varying the learning rate, it is time to do the actual training that will be used to forecast the time series. For this complete the `create_model` function below.\n",
        "\n",
        "Notice that you are reusing the architecture you defined in the `create_uncompiled_model` earlier. Now you only need to compile this model using the appropriate loss, optimizer (and learning rate).\n",
        "\n",
        "Hints:\n",
        "\n",
        "- The training should be really quick so if you notice that each epoch is taking more than a few seconds, consider trying a different architecture.\n",
        "\n",
        "\n",
        "- If after the first epoch you get an output like this: loss: nan - mae: nan it is very likely that your network is suffering from exploding gradients. This is a common problem if you used SGD as optimizer and set a learning rate that is too high. If you encounter this problem consider lowering the learning rate or using Adam with the default learning rate."
      ]
    },
    {
      "cell_type": "code",
      "execution_count": null,
      "metadata": {
        "id": "tPhdYkTbqBvX"
      },
      "outputs": [],
      "source": [
        "def create_model():\n",
        "\n",
        "    \n",
        "    model = create_uncompiled_model()\n",
        "\n",
        "    ### START CODE HERE\n",
        "\n",
        "    model.compile(loss=tf.keras.losses.Huber(),\n",
        "                  optimizer=tf.keras.optimizers.SGD(learning_rate=1e-2,momentum=0.9),\n",
        "                  metrics=[\"mae\"])  \n",
        "    \n",
        "\n",
        "    ### END CODE HERE\n",
        "\n",
        "    return model"
      ]
    },
    {
      "cell_type": "code",
      "execution_count": null,
      "metadata": {
        "id": "OYqSDbGfqBvY",
        "outputId": "9f887251-fa80-4cf8-898b-06cfddbef791"
      },
      "outputs": [
        {
          "name": "stdout",
          "output_type": "stream",
          "text": [
            "Model: \"sequential_5\"\n",
            "_________________________________________________________________\n",
            " Layer (type)                Output Shape              Param #   \n",
            "=================================================================\n",
            " conv1d_5 (Conv1D)           (None, 64, 64)            256       \n",
            "                                                                 \n",
            " bidirectional_5 (Bidirectio  (None, 64, 128)          66048     \n",
            " nal)                                                            \n",
            "                                                                 \n",
            " lstm_16 (LSTM)              (None, 64, 32)            20608     \n",
            "                                                                 \n",
            " lstm_17 (LSTM)              (None, 20)                4240      \n",
            "                                                                 \n",
            " dense_10 (Dense)            (None, 10)                210       \n",
            "                                                                 \n",
            " dense_11 (Dense)            (None, 1)                 11        \n",
            "                                                                 \n",
            "=================================================================\n",
            "Total params: 91,373\n",
            "Trainable params: 91,373\n",
            "Non-trainable params: 0\n",
            "_________________________________________________________________\n",
            "Epoch 1/50\n",
            "10/10 [==============================] - 11s 534ms/step - loss: 8.5640 - mae: 9.0617\n",
            "Epoch 2/50\n",
            "10/10 [==============================] - 5s 490ms/step - loss: 3.8900 - mae: 4.3682\n",
            "Epoch 3/50\n",
            "10/10 [==============================] - 5s 489ms/step - loss: 3.0313 - mae: 3.5003\n",
            "Epoch 4/50\n",
            "10/10 [==============================] - 5s 501ms/step - loss: 2.8095 - mae: 3.2785\n",
            "Epoch 5/50\n",
            "10/10 [==============================] - 5s 521ms/step - loss: 2.7539 - mae: 3.2189\n",
            "Epoch 6/50\n",
            "10/10 [==============================] - 5s 499ms/step - loss: 2.6976 - mae: 3.1642\n",
            "Epoch 7/50\n",
            "10/10 [==============================] - 5s 511ms/step - loss: 2.6832 - mae: 3.1486\n",
            "Epoch 8/50\n",
            "10/10 [==============================] - 5s 500ms/step - loss: 2.5906 - mae: 3.0536\n",
            "Epoch 9/50\n",
            "10/10 [==============================] - 5s 500ms/step - loss: 2.3535 - mae: 2.8135\n",
            "Epoch 10/50\n",
            "10/10 [==============================] - 5s 490ms/step - loss: 2.5740 - mae: 3.0410\n",
            "Epoch 11/50\n",
            "10/10 [==============================] - 5s 490ms/step - loss: 2.3545 - mae: 2.8138\n",
            "Epoch 12/50\n",
            "10/10 [==============================] - 5s 500ms/step - loss: 2.0253 - mae: 2.4796\n",
            "Epoch 13/50\n",
            "10/10 [==============================] - 5s 512ms/step - loss: 2.0803 - mae: 2.5379\n",
            "Epoch 14/50\n",
            "10/10 [==============================] - 6s 534ms/step - loss: 1.8633 - mae: 2.3140\n",
            "Epoch 15/50\n",
            "10/10 [==============================] - 5s 513ms/step - loss: 1.9336 - mae: 2.3893\n",
            "Epoch 16/50\n",
            "10/10 [==============================] - 5s 522ms/step - loss: 1.8278 - mae: 2.2790\n",
            "Epoch 17/50\n",
            "10/10 [==============================] - 5s 512ms/step - loss: 1.7295 - mae: 2.1797\n",
            "Epoch 18/50\n",
            "10/10 [==============================] - 5s 523ms/step - loss: 1.7406 - mae: 2.1899\n",
            "Epoch 19/50\n",
            "10/10 [==============================] - 5s 523ms/step - loss: 1.7597 - mae: 2.2106\n",
            "Epoch 20/50\n",
            "10/10 [==============================] - 5s 512ms/step - loss: 1.6721 - mae: 2.1183\n",
            "Epoch 21/50\n",
            "10/10 [==============================] - 5s 513ms/step - loss: 1.6978 - mae: 2.1476\n",
            "Epoch 22/50\n",
            "10/10 [==============================] - 6s 533ms/step - loss: 1.6322 - mae: 2.0812\n",
            "Epoch 23/50\n",
            "10/10 [==============================] - 5s 534ms/step - loss: 1.6142 - mae: 2.0599\n",
            "Epoch 24/50\n",
            "10/10 [==============================] - 5s 513ms/step - loss: 1.6520 - mae: 2.1007\n",
            "Epoch 25/50\n",
            "10/10 [==============================] - 6s 533ms/step - loss: 1.6218 - mae: 2.0690\n",
            "Epoch 26/50\n",
            "10/10 [==============================] - 6s 545ms/step - loss: 1.6483 - mae: 2.0955\n",
            "Epoch 27/50\n",
            "10/10 [==============================] - 5s 533ms/step - loss: 1.5710 - mae: 2.0154\n",
            "Epoch 28/50\n",
            "10/10 [==============================] - 6s 534ms/step - loss: 1.5584 - mae: 1.9991\n",
            "Epoch 29/50\n",
            "10/10 [==============================] - 5s 523ms/step - loss: 1.5373 - mae: 1.9798\n",
            "Epoch 30/50\n",
            "10/10 [==============================] - 5s 521ms/step - loss: 1.5328 - mae: 1.9731\n",
            "Epoch 31/50\n",
            "10/10 [==============================] - 5s 521ms/step - loss: 1.5125 - mae: 1.9545\n",
            "Epoch 32/50\n",
            "10/10 [==============================] - 5s 524ms/step - loss: 1.6199 - mae: 2.0664\n",
            "Epoch 33/50\n",
            "10/10 [==============================] - 5s 532ms/step - loss: 1.5935 - mae: 2.0384\n",
            "Epoch 34/50\n",
            "10/10 [==============================] - 5s 533ms/step - loss: 1.5509 - mae: 1.9944\n",
            "Epoch 35/50\n",
            "10/10 [==============================] - 5s 524ms/step - loss: 1.5596 - mae: 2.0034\n",
            "Epoch 36/50\n",
            "10/10 [==============================] - 6s 545ms/step - loss: 1.4970 - mae: 1.9356\n",
            "Epoch 37/50\n",
            "10/10 [==============================] - 6s 535ms/step - loss: 1.4920 - mae: 1.9308\n",
            "Epoch 38/50\n",
            "10/10 [==============================] - 5s 532ms/step - loss: 1.5063 - mae: 1.9456\n",
            "Epoch 39/50\n",
            "10/10 [==============================] - 5s 523ms/step - loss: 1.4993 - mae: 1.9389\n",
            "Epoch 40/50\n",
            "10/10 [==============================] - 5s 523ms/step - loss: 1.5057 - mae: 1.9457\n",
            "Epoch 41/50\n",
            "10/10 [==============================] - 6s 533ms/step - loss: 1.4819 - mae: 1.9225\n",
            "Epoch 42/50\n",
            "10/10 [==============================] - 5s 523ms/step - loss: 1.5075 - mae: 1.9457\n",
            "Epoch 43/50\n",
            "10/10 [==============================] - 5s 513ms/step - loss: 1.4947 - mae: 1.9323\n",
            "Epoch 44/50\n",
            "10/10 [==============================] - 6s 533ms/step - loss: 1.4832 - mae: 1.9209\n",
            "Epoch 45/50\n",
            "10/10 [==============================] - 6s 545ms/step - loss: 1.4998 - mae: 1.9401\n",
            "Epoch 46/50\n",
            "10/10 [==============================] - 5s 532ms/step - loss: 1.5228 - mae: 1.9679\n",
            "Epoch 47/50\n",
            "10/10 [==============================] - 5s 502ms/step - loss: 1.4976 - mae: 1.9392\n",
            "Epoch 48/50\n",
            "10/10 [==============================] - 5s 501ms/step - loss: 1.5162 - mae: 1.9569\n",
            "Epoch 49/50\n",
            "10/10 [==============================] - 5s 535ms/step - loss: 1.5198 - mae: 1.9599\n",
            "Epoch 50/50\n",
            "10/10 [==============================] - 5s 522ms/step - loss: 1.4686 - mae: 1.9056\n"
          ]
        }
      ],
      "source": [
        "# Save an instance of the model\n",
        "model = create_model()\n",
        "\n",
        "# Train it\n",
        "history = model.fit(train_set, epochs=50)"
      ]
    },
    {
      "cell_type": "markdown",
      "metadata": {
        "id": "AEF_VYYKqBvY"
      },
      "source": [
        "## Evaluating the forecast\n",
        "\n",
        "Now it is time to evaluate the performance of the forecast. For this you can use the `compute_metrics` function that you coded in a previous assignment:"
      ]
    },
    {
      "cell_type": "code",
      "execution_count": null,
      "metadata": {
        "id": "fJvjFdeBqBvY"
      },
      "outputs": [],
      "source": [
        "def compute_metrics(true_series, forecast):\n",
        "    \n",
        "    mse = tf.keras.metrics.mean_squared_error(true_series, forecast).numpy()\n",
        "    mae = tf.keras.metrics.mean_absolute_error(true_series, forecast).numpy()\n",
        "\n",
        "    return mse, mae"
      ]
    },
    {
      "cell_type": "markdown",
      "metadata": {
        "id": "5TtFdtFAqBvZ"
      },
      "source": [
        "At this point only the model that will perform the forecast is ready but you still need to compute the actual forecast.\n",
        "\n"
      ]
    },
    {
      "cell_type": "markdown",
      "metadata": {
        "id": "rJ5rHDpRqBvZ"
      },
      "source": [
        "## Faster model forecasts\n",
        "\n",
        "In the previous week you saw a faster approach compared to using a for loop to compute the forecasts for every point in the sequence. Remember that this faster approach uses batches of data. \n",
        "\n",
        "The code to implement this is provided in the `model_forecast` below. Notice that the code is very similar to the one in the `windowed_dataset` function with the differences that:\n",
        "- The dataset is windowed using `window_size` rather than `window_size + 1`\n",
        "- No shuffle should be used\n",
        "- No need to split the data into features and labels\n",
        "- A model is used to predict batches of the dataset"
      ]
    },
    {
      "cell_type": "code",
      "execution_count": null,
      "metadata": {
        "id": "4XwGrf-A_wF0"
      },
      "outputs": [],
      "source": [
        "def model_forecast(model, series, window_size):\n",
        "    ds = tf.data.Dataset.from_tensor_slices(series)\n",
        "    ds = ds.window(window_size, shift=1, drop_remainder=True)\n",
        "    ds = ds.flat_map(lambda w: w.batch(window_size))\n",
        "    ds = ds.batch(32).prefetch(1)\n",
        "    forecast = model.predict(ds)\n",
        "    return forecast"
      ]
    },
    {
      "cell_type": "markdown",
      "metadata": {
        "id": "Aytxy-UDqBvZ"
      },
      "source": [
        "Now compute the actual forecast:\n",
        "\n",
        "**Note:** Don't modify the cell below. \n",
        "\n",
        "The grader uses the same slicing to get the forecast so if you change the cell below you risk having issues when submitting your model for grading."
      ]
    },
    {
      "cell_type": "code",
      "execution_count": null,
      "metadata": {
        "colab": {
          "base_uri": "https://localhost:8080/",
          "height": 389
        },
        "id": "PrktQX3hKYex",
        "outputId": "1914662d-6bdd-4e17-8697-8f5a29e89b87"
      },
      "outputs": [
        {
          "data": {
            "image/png": "[encoded data removed]",
            "text/plain": [
              "<Figure size 720x432 with 1 Axes>"
            ]
          },
          "metadata": {
            "needs_background": "light"
          },
          "output_type": "display_data"
        }
      ],
      "source": [
        "# Compute the forecast for all the series\n",
        "rnn_forecast = model_forecast(model, G.SERIES, G.WINDOW_SIZE).squeeze()\n",
        "\n",
        "# Slice the forecast to get only the predictions for the validation set\n",
        "rnn_forecast = rnn_forecast[G.SPLIT_TIME - G.WINDOW_SIZE:-1]\n",
        "\n",
        "# Plot the forecast\n",
        "plt.figure(figsize=(10, 6))\n",
        "plot_series(time_valid, series_valid)\n",
        "plot_series(time_valid, rnn_forecast)"
      ]
    },
    {
      "cell_type": "code",
      "execution_count": null,
      "metadata": {
        "id": "SOz7BuPbqBva",
        "outputId": "a19adbb0-76a6-4377-e6ae-5fcf24a7c18f"
      },
      "outputs": [
        {
          "name": "stdout",
          "output_type": "stream",
          "text": [
            "mse: 5.74, mae: 1.88 for forecast\n"
          ]
        }
      ],
      "source": [
        "mse, mae = compute_metrics(series_valid, rnn_forecast)\n",
        "\n",
        "print(f\"mse: {mse:.2f}, mae: {mae:.2f} for forecast\")"
      ]
    },
    {
      "cell_type": "markdown",
      "metadata": {
        "id": "xPsYuKPiqBva"
      },
      "source": [
        "**To pass this assignment your forecast should achieve a MSE of 6 or less and a MAE of 2 or less.**\n",
        "\n",
        "- If your forecast didn't achieve this threshold try re-training your model with a different architecture (you will need to re-run both `create_uncompiled_model` and `create_model` functions) or tweaking the optimizer's parameters.\n",
        "\n",
        "\n",
        "- If your forecast did achieve this threshold run the following cell to save the model in a HDF5 file which will be used for grading and after doing so, submit your assigment for grading.\n",
        "\n",
        "\n",
        "- This environment includes a dummy SavedModel directory which contains a dummy model trained for one epoch. **To replace this file with your actual model you need to run the next cell before submitting for grading.**"
      ]
    },
    {
      "cell_type": "code",
      "execution_count": null,
      "metadata": {
        "id": "QH-st4cPqBvb",
        "outputId": "a475e088-3ad5-44e6-cfb1-c261c92a554f"
      },
      "outputs": [
        {
          "name": "stderr",
          "output_type": "stream",
          "text": [
            "WARNING:absl:Found untraced functions such as lstm_cell_28_layer_call_fn, lstm_cell_28_layer_call_and_return_conditional_losses, lstm_cell_29_layer_call_fn, lstm_cell_29_layer_call_and_return_conditional_losses, lstm_cell_26_layer_call_fn while saving (showing 5 of 20). These functions will not be directly callable after loading.\n"
          ]
        },
        {
          "name": "stdout",
          "output_type": "stream",
          "text": [
            "INFO:tensorflow:Assets written to: saved_model/my_model/assets\n"
          ]
        },
        {
          "name": "stderr",
          "output_type": "stream",
          "text": [
            "INFO:tensorflow:Assets written to: saved_model/my_model/assets\n",
            "WARNING:absl:<keras.layers.recurrent.LSTMCell object at 0x7fd4355e6c70> has the same name 'LSTMCell' as a built-in Keras object. Consider renaming <class 'keras.layers.recurrent.LSTMCell'> to avoid naming conflicts when loading with `tf.keras.models.load_model`. If renaming is not possible, pass the object in the `custom_objects` parameter of the load function.\n",
            "WARNING:absl:<keras.layers.recurrent.LSTMCell object at 0x7fd43569f760> has the same name 'LSTMCell' as a built-in Keras object. Consider renaming <class 'keras.layers.recurrent.LSTMCell'> to avoid naming conflicts when loading with `tf.keras.models.load_model`. If renaming is not possible, pass the object in the `custom_objects` parameter of the load function.\n",
            "WARNING:absl:<keras.layers.recurrent.LSTMCell object at 0x7fd4547f4c70> has the same name 'LSTMCell' as a built-in Keras object. Consider renaming <class 'keras.layers.recurrent.LSTMCell'> to avoid naming conflicts when loading with `tf.keras.models.load_model`. If renaming is not possible, pass the object in the `custom_objects` parameter of the load function.\n",
            "WARNING:absl:<keras.layers.recurrent.LSTMCell object at 0x7fd4547ce0d0> has the same name 'LSTMCell' as a built-in Keras object. Consider renaming <class 'keras.layers.recurrent.LSTMCell'> to avoid naming conflicts when loading with `tf.keras.models.load_model`. If renaming is not possible, pass the object in the `custom_objects` parameter of the load function.\n"
          ]
        }
      ],
      "source": [
        "# Save your model in the SavedModel format\n",
        "model.save('saved_model/my_model')\n",
        "\n",
        "# Compress the directory using tar\n",
        "! tar -czvf saved_model.tar.gz saved_model/"
      ]
    },
    {
      "cell_type": "markdown",
      "metadata": {
        "id": "b2sWd22SqBvb"
      },
      "source": [
        "**Congratulations on finishing this week's assignment!**\n",
        "\n",
        "You have successfully implemented a neural network capable of forecasting time series leveraging a combination of Tensorflow's layers such as Convolutional and LSTMs! This resulted in a forecast that surpasses all the ones you did previously.\n",
        "\n",
        "**By finishing this assignment you have finished the specialization! Give yourself a pat on the back!!!**"
      ]
    }
  ],
  "metadata": {
    "kernelspec": {
      "display_name": "Python 3",
      "language": "python",
      "name": "python3"
    },
    "language_info": {
      "codemirror_mode": {
        "name": "ipython",
        "version": 3
      },
      "file_extension": ".py",
      "mimetype": "text/x-python",
      "name": "python",
      "nbconvert_exporter": "python",
      "pygments_lexer": "ipython3",
      "version": "3.8.8"
    },
    "colab": {
      "provenance": [],
      "include_colab_link": true
    }
  },
  "nbformat": 4,
  "nbformat_minor": 0
}